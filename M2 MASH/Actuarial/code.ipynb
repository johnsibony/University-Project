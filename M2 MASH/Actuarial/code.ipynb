{
 "cells": [
  {
   "cell_type": "code",
   "execution_count": 129,
   "metadata": {
    "collapsed": true,
    "run_control": {
     "frozen": false,
     "read_only": false
    }
   },
   "outputs": [],
   "source": [
    "import pandas as pd\n",
    "import numpy as np\n",
    "import matplotlib.pyplot as plt\n",
    "import time\n",
    "from joblib import Parallel, delayed  # parralélisation des calculs pour gain de temps"
   ]
  },
  {
   "cell_type": "markdown",
   "metadata": {
    "run_control": {
     "frozen": false,
     "read_only": false
    }
   },
   "source": [
    "# Méthode 1 : Approche par Monte Carlo\n",
    "\n",
    "Pour chaque valeur de sigma $\\sigma$, on estime $\\Phi(x,0,\\sigma)$. Pour ce faire, nous proposons une approche Monte Carlo, à savoir en moyennant de nombreuses simulations $\\sigma$ simulées selon une loi normale pour estimer le Best Estimate moyen."
   ]
  },
  {
   "cell_type": "markdown",
   "metadata": {
    "run_control": {
     "frozen": false,
     "read_only": false
    }
   },
   "source": [
    "### Initialisation des paramètres "
   ]
  },
  {
   "cell_type": "code",
   "execution_count": 470,
   "metadata": {
    "collapsed": true,
    "run_control": {
     "frozen": false,
     "read_only": false
    }
   },
   "outputs": [],
   "source": [
    "x_infini = 0\n",
    "T = 3\n",
    "k = 0.3\n",
    "mu = 0.01\n",
    "nu = 0.01\n",
    "sigma = 0.01"
   ]
  },
  {
   "cell_type": "markdown",
   "metadata": {
    "run_control": {
     "frozen": false,
     "read_only": false
    }
   },
   "source": [
    "### Simulation du processus gaussien de retour à la moyenne x"
   ]
  },
  {
   "cell_type": "code",
   "execution_count": 391,
   "metadata": {
    "collapsed": true,
    "run_control": {
     "frozen": false,
     "read_only": false
    }
   },
   "outputs": [],
   "source": [
    "def gaussian_process(x_initial, k, x_infini, sigma, T):\n",
    "    \n",
    "    x = np.zeros(T+1)\n",
    "    x[0] = x_initial\n",
    "    \n",
    "    for indice, i in enumerate(range(T)):    \n",
    "        \n",
    "        x[indice+1] = (x[indice] + k*(x_infini-x[indice]) + sigma*np.random.normal()) # formule discrète de x retour à la moyenne\n",
    "        \n",
    "    return(x)"
   ]
  },
  {
   "cell_type": "markdown",
   "metadata": {},
   "source": [
    "### Simulation du contrat par le théorème de Feynman Kac"
   ]
  },
  {
   "cell_type": "code",
   "execution_count": 392,
   "metadata": {
    "collapsed": true,
    "run_control": {
     "frozen": false,
     "read_only": false
    }
   },
   "outputs": [],
   "source": [
    "def phi(x_initial, k, x_infini, sigma, T, n, mu, nu):\n",
    "    \n",
    "    val = []\n",
    "    for i in range(n):\n",
    "        x = gaussian_process(x_initial, k, x_infini, sigma, T)\n",
    "        val.append(np.exp(np.sum(x+(1-(mu-nu*x)))/T)) # formule discrète du théorème\n",
    "        \n",
    "    return(np.mean(val)) # espérence conditionnelle de la formule simulée par Monte Carlo"
   ]
  },
  {
   "cell_type": "markdown",
   "metadata": {
    "run_control": {
     "frozen": false,
     "read_only": false
    }
   },
   "source": [
    "### Determination du Best Estimate via Feynman Kac sur une grille de x"
   ]
  },
  {
   "cell_type": "code",
   "execution_count": 393,
   "metadata": {
    "collapsed": true
   },
   "outputs": [],
   "source": [
    "espace = np.arange(-5, 5, 0.05)\n",
    "res = []\n",
    "\n",
    "for i in espace :\n",
    "    \n",
    "    liste_de_sigma = np.random.normal(0.01,0.01, 100)  #valeurs suggérées\n",
    "    val = []\n",
    "\n",
    "    for sigma in liste_de_sigma :\n",
    "\n",
    "        val.append(phi(i, k, x_infini, sigma, T, nb_estimation, mu, nu))\n",
    "    res.append(np.mean(val))"
   ]
  },
  {
   "cell_type": "code",
   "execution_count": 394,
   "metadata": {},
   "outputs": [
    {
     "data": {
      "image/png": "[encoded data removed]",
      "text/plain": [
       "<matplotlib.figure.Figure at 0x117e1cd68>"
      ]
     },
     "metadata": {},
     "output_type": "display_data"
    }
   ],
   "source": [
    "plt.plot(espace, res)\n",
    "plt.title(\"Best Estimate moyen\")\n",
    "plt.show()"
   ]
  },
  {
   "cell_type": "markdown",
   "metadata": {
    "run_control": {
     "frozen": false,
     "read_only": false
    }
   },
   "source": [
    "## Estimation des ajustements pour incertitudes"
   ]
  },
  {
   "cell_type": "code",
   "execution_count": 442,
   "metadata": {
    "collapsed": true
   },
   "outputs": [],
   "source": [
    "def Ajustement(q, res, x):\n",
    "    \n",
    "    val = []\n",
    "    for i in (res-q):\n",
    "        if i>0 :\n",
    "            val.append(i)\n",
    "    print(\"L'ajustement pour incertitude de quantile {} pour x = {} vaut : {}\".format(q, x, np.mean(val)))"
   ]
  },
  {
   "cell_type": "code",
   "execution_count": 443,
   "metadata": {
    "collapsed": true
   },
   "outputs": [],
   "source": [
    "x = -1\n",
    "res = []\n",
    "\n",
    "for i in range(1000) :\n",
    "    \n",
    "    sigma = np.random.normal(0.01,0.01)  #valeurs suggérées par le professeur\n",
    "    res.append(phi(x, k, x_infini, sigma, T, 1000, mu, nu))\n",
    "    \n",
    "res = np.array(res)"
   ]
  },
  {
   "cell_type": "code",
   "execution_count": 444,
   "metadata": {},
   "outputs": [
    {
     "name": "stdout",
     "output_type": "stream",
     "text": [
      "L'ajustement pour incertitude de quantile 1.596672258699584 pour x = -1 vaut : 0.0007631383625826182\n",
      "L'ajustement pour incertitude de quantile 1.597129486275557 pour x = -1 vaut : 0.0008642019798697875\n",
      "L'ajustement pour incertitude de quantile 1.5983590460683237 pour x = -1 vaut : 0.001271620488407832\n"
     ]
    }
   ],
   "source": [
    "Ajustement(np.percentile(res, 90), res, -1)  # Ajustement pour une certaine valeure de x \n",
    "Ajustement(np.percentile(res, 95), res, -1)\n",
    "Ajustement(np.percentile(res, 99), res, -1)"
   ]
  },
  {
   "cell_type": "code",
   "execution_count": 445,
   "metadata": {
    "collapsed": true
   },
   "outputs": [],
   "source": [
    "x = 0\n",
    "res = []\n",
    "\n",
    "for i in range(1000) :\n",
    "    \n",
    "    sigma = np.random.normal(0.01,0.01)  #valeurs suggérées par le professeur\n",
    "    res.append(phi(x, k, x_infini, sigma, T, 1000, mu, nu))\n",
    "    \n",
    "res = np.array(res)"
   ]
  },
  {
   "cell_type": "code",
   "execution_count": 446,
   "metadata": {
    "run_control": {
     "frozen": false,
     "read_only": false
    }
   },
   "outputs": [
    {
     "name": "stdout",
     "output_type": "stream",
     "text": [
      "L'ajustement pour incertitude de quantile 3.7459341868792295 pour x = 0 vaut : 0.001885241949475347\n",
      "L'ajustement pour incertitude de quantile 3.7470797757627397 pour x = 0 vaut : 0.002133603872329557\n",
      "L'ajustement pour incertitude de quantile 3.750573763986396 pour x = 0 vaut : 0.0026791272289079073\n"
     ]
    }
   ],
   "source": [
    "Ajustement(np.percentile(res, 90), res, 0)  # Ajustement pour une certaine valeure de x \n",
    "Ajustement(np.percentile(res, 95), res, 0)\n",
    "Ajustement(np.percentile(res, 99), res, 0)"
   ]
  },
  {
   "cell_type": "markdown",
   "metadata": {
    "run_control": {
     "frozen": false,
     "read_only": false
    }
   },
   "source": [
    "## Determination du cout moyen de la garantie "
   ]
  },
  {
   "cell_type": "markdown",
   "metadata": {
    "run_control": {
     "frozen": false,
     "read_only": false
    }
   },
   "source": [
    "On fait varier nos x_i qui sont nos point de départ des chemins que l'on crée via l'équation de Feynman Kac."
   ]
  },
  {
   "cell_type": "code",
   "execution_count": 402,
   "metadata": {
    "collapsed": true
   },
   "outputs": [],
   "source": [
    "x = np.linspace(-15,15,30)"
   ]
  },
  {
   "cell_type": "code",
   "execution_count": 403,
   "metadata": {
    "run_control": {
     "frozen": false,
     "read_only": false
    }
   },
   "outputs": [
    {
     "name": "stdout",
     "output_type": "stream",
     "text": [
      "La valeur qui coupe 1 est donc quand x_i vaut :  0.51724137931\n"
     ]
    }
   ],
   "source": [
    "liste_de_sigma = np.random.normal(0.01,0.01,1000)\n",
    "\n",
    "for sigma in liste_de_sigma:\n",
    "    \n",
    "    res = []\n",
    "    val = []\n",
    "    for indice, x_i in enumerate(x):\n",
    "        \n",
    "        res.append(phi(x_i, k, x_infini, sigma, T, nb_estimation, mu, nu) -1)\n",
    "        if(indice>0):\n",
    "            if(res[indice]>0 and res[indice-1]<0):\n",
    "                val.append(x_i)\n",
    "                break\n",
    "            \n",
    "    \n",
    "print(\"La valeur qui coupe 1 est donc quand x_i vaut : \", -np.mean(val))"
   ]
  },
  {
   "cell_type": "markdown",
   "metadata": {
    "run_control": {
     "frozen": false,
     "read_only": false
    }
   },
   "source": [
    "Cette méthode s'avère efficace pour estimer le Best Estimate Moyen et le coût de la garantie. Par ailleurs cette méthode evite de passer par la discrétisation d'équations différentielles qui sont comme nous allons le voir très sensible aux points initiales. Cependant, cette méthode nécessite beaucoup de simulationsMonte Carlo\n",
    "\n",
    "On propose donc par la suite de suivre la démarche proposé par l'exercice, à savoir la résolution d'une équation différentielle.\n"
   ]
  },
  {
   "cell_type": "code",
   "execution_count": null,
   "metadata": {
    "collapsed": true
   },
   "outputs": [],
   "source": []
  },
  {
   "cell_type": "code",
   "execution_count": null,
   "metadata": {
    "collapsed": true
   },
   "outputs": [],
   "source": []
  },
  {
   "cell_type": "code",
   "execution_count": null,
   "metadata": {
    "collapsed": true
   },
   "outputs": [],
   "source": []
  },
  {
   "cell_type": "code",
   "execution_count": null,
   "metadata": {
    "collapsed": true
   },
   "outputs": [],
   "source": []
  },
  {
   "cell_type": "code",
   "execution_count": null,
   "metadata": {
    "collapsed": true
   },
   "outputs": [],
   "source": []
  },
  {
   "cell_type": "markdown",
   "metadata": {
    "run_control": {
     "frozen": false,
     "read_only": false
    }
   },
   "source": [
    "# Méthode 2 : Approche par projection de l'EDP"
   ]
  },
  {
   "cell_type": "code",
   "execution_count": null,
   "metadata": {
    "collapsed": true
   },
   "outputs": [],
   "source": []
  },
  {
   "cell_type": "markdown",
   "metadata": {
    "run_control": {
     "frozen": false,
     "read_only": false
    }
   },
   "source": [
    "Désormais nous développons l'approche EDP pour calculer le best estimate moyen. Nous allons utiliser une méthode de différences finis classique du type :\n",
    "\n",
    "$$\\frac{\\partial \\Phi}{\\partial t}(x,t)\\approx \\frac{\\Phi(x,t)-\\Phi(x,t-\\Delta t)}{\\Delta t}$$\n",
    "\n",
    "On se repportera au rapport pour les détails de discrétisation."
   ]
  },
  {
   "cell_type": "code",
   "execution_count": 447,
   "metadata": {
    "collapsed": true
   },
   "outputs": [],
   "source": [
    "x_infini = 0\n",
    "K_0 = 0.3\n",
    "d = 10\n",
    "mu_0 = 0.04\n",
    "mu = 0.01\n",
    "eta = 2\n",
    "nu = 0.01\n",
    "T = 3"
   ]
  },
  {
   "cell_type": "code",
   "execution_count": 338,
   "metadata": {
    "collapsed": true,
    "run_control": {
     "frozen": false,
     "read_only": false
    }
   },
   "outputs": [],
   "source": [
    "def initial_phi(d, espace, N):\n",
    "\n",
    "    mat = np.zeros((d+1,N))\n",
    "    mat[0,:] = 1\n",
    "    return mat\n",
    "\n",
    "def g(x, mu_0, eta): \n",
    "    \n",
    "    return mu_0-eta*x\n",
    "\n",
    "def rotation(dim): \n",
    "    \n",
    "    mat = np.zeros((dim, dim))\n",
    "    for i in range(1, dim):\n",
    "        mat[i,i-1] = 1     # sous diagonale identité\n",
    "    \n",
    "    return mat\n",
    "\n",
    "def mat_J(d, N): \n",
    "    \n",
    "    return np.ones((d+1,N))"
   ]
  },
  {
   "cell_type": "code",
   "execution_count": 339,
   "metadata": {
    "collapsed": true,
    "run_control": {
     "frozen": false,
     "read_only": false
    }
   },
   "outputs": [],
   "source": [
    "def mat_A(espace, pas_t, pas_x, k_0, x_infini, mu, mu_1, eta, N):\n",
    "    \n",
    "    a = [1-(mu**2*pas_t)/(pas_x**2)-(pas_t/(pas_x))*k_0*(x_infini-x)+ pas_t*(x+1-g(x,mu_1,eta)) for x in espace]\n",
    "    b = [(mu**2/2)*(pas_t/(pas_x**2))+pas_t/(pas_x)*k_0*(x_infini-x) for x in espace[:-1]]\n",
    "    c = (mu**2/2)*(pas_t/(pas_x**2))\n",
    "    \n",
    "    mat = np.zeros((N,N))  # matrice nulle\n",
    "    mat[N-1,N-1] = a[N-1]  # dernière ligne derniere colonne\n",
    "    for i in range(N-1):\n",
    "        mat[i,i] = a[i]\n",
    "        mat[i+1,i] = b[i]\n",
    "        mat[i,i+1] = c\n",
    "    \n",
    "    return mat\n",
    "\n",
    "def mat_B(pas_t, pas_x, nu, mu, d):\n",
    "    \n",
    "    a = -(nu**2)*pas_t/(pas_x**2)\n",
    "    b = -2*nu*mu*pas_t/(pas_x**2)\n",
    "    c = [-2*nu*mu*(k+1)*pas_t/(pas_x**2) for k in range(d)]\n",
    "    e = [-(nu**2)*(k+2)*(k+1)*pas_t/(pas_x**2) for k in range(d-1)]\n",
    "    \n",
    "    mat = np.zeros((d+1,d+1))\n",
    "   \n",
    "    mat[d-1,d] = c[d-1]\n",
    "    for i in range(0,d-1): # les sur diagonales\n",
    "        mat[i,i+1] = c[i]\n",
    "        mat[i,i+2] = e[i]\n",
    "    \n",
    "   \n",
    "    mat[d,d-1] = b  # les sous diagonales\n",
    "    for i in range(0,d-1):\n",
    "        mat[i+1,i] = b\n",
    "        mat[i+2,i] = a\n",
    "    return mat\n",
    "\n",
    "def mat_C(d, espace, pas_t, pas_x, nu, mu, N):\n",
    "\n",
    "    c_k = [nu*mu*(k+1)*pas_t/(pas_x**2) for k in range(d+1)]\n",
    "    mat = np.zeros((d+1,N))\n",
    "    for i in range(N):\n",
    "        mat[:,i] = c_k\n",
    "    return mat\n",
    "\n",
    "def mat_D(d, espace, pas_t, pas_x, nu, mu, N):\n",
    "    \n",
    "    d_k = [(nu**2)*(k+1)*(k+2)*pas_t/(pas_x**2) for k in range(d+1)]\n",
    "    mat = np.zeros((d+1,N))\n",
    "    for i in range(N):\n",
    "        mat[:,i] = d_k\n",
    "    return mat\n",
    "\n",
    "def mat_E(d, espace, pas_t, pas_x, nu, mu, N): \n",
    "\n",
    "    e = [-(2*k+1)*(nu**2)*pas_t/(pas_x**2) for k in range(d+1)]\n",
    "    mat = np.zeros((d+1,N))\n",
    "    for i in range(N):\n",
    "        mat[:,i] = e\n",
    "    return mat\n",
    "\n",
    "def mat_F(d, espace, pas_t, pas_x, nu, mu, N):\n",
    "    \n",
    "    f = [((2*k+1)*(nu**2)/2)*pas_t/(pas_x**2) for k in range(d+1)]\n",
    "    mat = np.zeros((d+1,N))\n",
    "    for i in range(N):\n",
    "        mat[:,i] = f\n",
    "    return mat"
   ]
  },
  {
   "cell_type": "markdown",
   "metadata": {
    "run_control": {
     "frozen": false,
     "read_only": false
    }
   },
   "source": [
    "Nous allons essayer de trouver les bonnes variables d'espaces et de temps. On estime que nos variables d'espaces et de temps seront bien choisis lorsque notre PHI ne sera que positive. On test plusieurs valeurs:"
   ]
  },
  {
   "cell_type": "code",
   "execution_count": 481,
   "metadata": {
    "collapsed": true,
    "run_control": {
     "frozen": false,
     "read_only": false
    }
   },
   "outputs": [],
   "source": [
    "# on fait une boucle pour determiner nos pas en temps et en espace optimaux afin que la solution converge\n",
    "\n",
    "def cal(k, j, d):\n",
    "\n",
    "        temps = np.arange(0, T, k)\n",
    "        espace = np.arange(-5, 0.5, j)\n",
    "        N=len(espace)\n",
    "        \n",
    "        # on initialise nos matrices\n",
    "        \n",
    "        Phi = initial_phi(d, espace, N)\n",
    "        R_d = rotation(d+1)\n",
    "        R_N = rotation(N)\n",
    "        J = mat_J(d, N)\n",
    "\n",
    "        \n",
    "        A = mat_A(espace, k, j, K_0, x_infini, mu, mu_0, eta, N)\n",
    "        B = mat_B(k, j, nu, mu, d)\n",
    "        C = mat_C(d, espace, k, j, nu, mu, N)\n",
    "        D = mat_D(d, espace, k, j, nu, mu, N)\n",
    "        E = mat_E(d, espace, k, j, nu, mu, N)\n",
    "        F = mat_F(d, espace, k, j, nu, mu, N)\n",
    "        \n",
    "        ## on resoud l'edp en \"diffusant\" sur le temps en itérant nos matrices phi\n",
    "        \n",
    "        for i in range(len(temps)):\n",
    "            \n",
    "            coef1 = np.dot(R_d, np.dot(R_d, np.dot(Phi, R_N)))+ np.dot(R_d, np.dot(R_d, np.dot(Phi, np.transpose(R_N))))\n",
    "            coef2 = np.dot(R_d, np.dot(Phi, R_N))+ np.dot(R_d, np.dot(Phi, np.transpose(R_N)))\n",
    "            coef3 = np.dot(np.transpose(R_d), np.dot(Phi, R_N))+ np.dot(np.transpose(R_d), np.dot(Phi, np.transpose(R_N)))\n",
    "            coef4 = np.dot(np.transpose(R_d), np.dot(np.transpose(R_d), np.dot(Phi, R_N)))+ np.dot(np.transpose(R_d), np.dot(np.transpose(R_d), np.dot(Phi, np.transpose(R_N))))\n",
    "            coef5 = np.dot(Phi, R_N)+ np.dot(Phi, np.transpose(R_N))  \n",
    "\n",
    "            Phi = np.dot(Phi, A)+ np.dot(B, Phi)+ np.multiply(((nu**2)/2)*k/(j**2)*J, coef1)+ np.multiply(nu*mu*k/(j**2)*J, coef2)+ np.multiply(C, coef3)+ np.multiply(D, coef4)\n",
    "            + np.multiply(E, Phi)+ np.multiply(F, coef5)\n",
    "        \n",
    "        print(\"Pour un pas en temps de {}, en espace de {}, la plus petite valeur de PHI est {}\".format(k, j, np.min(Phi[0,:])))\n",
    "        \n",
    "        return Phi"
   ]
  },
  {
   "cell_type": "code",
   "execution_count": 121,
   "metadata": {
    "scrolled": true
   },
   "outputs": [
    {
     "name": "stdout",
     "output_type": "stream",
     "text": [
      "Pour un pas en temps de 1, en espace de 1, la plus petite valeur de PHI est -136.03520086445238\n",
      "Pour un pas en temps de 1, en espace de 0.5, la plus petite valeur de PHI est 63.211996052307406\n",
      "Pour un pas en temps de 1, en espace de 0.1, la plus petite valeur de PHI est -2081733.5165595852\n",
      "Pour un pas en temps de 1, en espace de 0.05, la plus petite valeur de PHI est -1954610775540.3992\n",
      "Pour un pas en temps de 1, en espace de 0.01, la plus petite valeur de PHI est -1.1924864857923207e+20\n",
      "Pour un pas en temps de 1, en espace de 0.001, la plus petite valeur de PHI est -3.886678519759222e+34\n",
      "Pour un pas en temps de 0.5, en espace de 1, la plus petite valeur de PHI est -2364830.8440260836\n",
      "Pour un pas en temps de 0.5, en espace de 0.5, la plus petite valeur de PHI est -350.7751989322639\n",
      "Pour un pas en temps de 0.5, en espace de 0.1, la plus petite valeur de PHI est -1.5686227284845924e+18\n",
      "Pour un pas en temps de 0.5, en espace de 0.05, la plus petite valeur de PHI est -9.369477035170316e+22\n",
      "Pour un pas en temps de 0.5, en espace de 0.01, la plus petite valeur de PHI est -4.564879565153138e+37\n",
      "Pour un pas en temps de 0.5, en espace de 0.001, la plus petite valeur de PHI est -3.173561889520041e+67\n",
      "Pour un pas en temps de 0.1, en espace de 1, la plus petite valeur de PHI est 0.059328580319621495\n",
      "Pour un pas en temps de 0.1, en espace de 0.5, la plus petite valeur de PHI est 0.00015750006114928248\n",
      "Pour un pas en temps de 0.1, en espace de 0.1, la plus petite valeur de PHI est -1.2398264938084248e+26\n",
      "Pour un pas en temps de 0.1, en espace de 0.05, la plus petite valeur de PHI est -1.0524518869987438e+56\n",
      "Pour un pas en temps de 0.1, en espace de 0.01, la plus petite valeur de PHI est -1.314593699896705e+145\n"
     ]
    },
    {
     "name": "stderr",
     "output_type": "stream",
     "text": [
      "/Users/johnsibony/anaconda/lib/python3.6/site-packages/ipykernel_launcher.py:35: RuntimeWarning: overflow encountered in multiply\n",
      "/Users/johnsibony/anaconda/lib/python3.6/site-packages/ipykernel_launcher.py:34: RuntimeWarning: overflow encountered in add\n",
      "/Users/johnsibony/anaconda/lib/python3.6/site-packages/ipykernel_launcher.py:34: RuntimeWarning: overflow encountered in multiply\n",
      "/Users/johnsibony/anaconda/lib/python3.6/site-packages/ipykernel_launcher.py:35: RuntimeWarning: invalid value encountered in add\n"
     ]
    },
    {
     "name": "stdout",
     "output_type": "stream",
     "text": [
      "Pour un pas en temps de 0.1, en espace de 0.001, la plus petite valeur de PHI est nan\n",
      "Pour un pas en temps de 0.01, en espace de 1, la plus petite valeur de PHI est 0.08738186193890565\n",
      "Pour un pas en temps de 0.01, en espace de 0.5, la plus petite valeur de PHI est 0.00023177869630193243\n",
      "Pour un pas en temps de 0.01, en espace de 0.1, la plus petite valeur de PHI est -221922434577460.38\n",
      "Pour un pas en temps de 0.01, en espace de 0.05, la plus petite valeur de PHI est -9.30202811933151e+23\n"
     ]
    },
    {
     "name": "stderr",
     "output_type": "stream",
     "text": [
      "/Users/johnsibony/anaconda/lib/python3.6/site-packages/ipykernel_launcher.py:28: RuntimeWarning: overflow encountered in add\n",
      "/Users/johnsibony/anaconda/lib/python3.6/site-packages/ipykernel_launcher.py:29: RuntimeWarning: overflow encountered in add\n",
      "/Users/johnsibony/anaconda/lib/python3.6/site-packages/ipykernel_launcher.py:30: RuntimeWarning: overflow encountered in add\n",
      "/Users/johnsibony/anaconda/lib/python3.6/site-packages/ipykernel_launcher.py:31: RuntimeWarning: overflow encountered in add\n",
      "/Users/johnsibony/anaconda/lib/python3.6/site-packages/ipykernel_launcher.py:32: RuntimeWarning: overflow encountered in add\n",
      "/Users/johnsibony/anaconda/lib/python3.6/site-packages/ipykernel_launcher.py:34: RuntimeWarning: overflow encountered in add\n",
      "/Users/johnsibony/anaconda/lib/python3.6/site-packages/ipykernel_launcher.py:35: RuntimeWarning: invalid value encountered in add\n"
     ]
    },
    {
     "name": "stdout",
     "output_type": "stream",
     "text": [
      "Pour un pas en temps de 0.01, en espace de 0.01, la plus petite valeur de PHI est nan\n"
     ]
    },
    {
     "name": "stderr",
     "output_type": "stream",
     "text": [
      "/Users/johnsibony/anaconda/lib/python3.6/site-packages/ipykernel_launcher.py:35: RuntimeWarning: overflow encountered in multiply\n",
      "/Users/johnsibony/anaconda/lib/python3.6/site-packages/ipykernel_launcher.py:34: RuntimeWarning: overflow encountered in add\n",
      "/Users/johnsibony/anaconda/lib/python3.6/site-packages/ipykernel_launcher.py:34: RuntimeWarning: overflow encountered in multiply\n",
      "/Users/johnsibony/anaconda/lib/python3.6/site-packages/ipykernel_launcher.py:35: RuntimeWarning: invalid value encountered in add\n",
      "/Users/johnsibony/anaconda/lib/python3.6/site-packages/ipykernel_launcher.py:32: RuntimeWarning: overflow encountered in add\n"
     ]
    },
    {
     "name": "stdout",
     "output_type": "stream",
     "text": [
      "Pour un pas en temps de 0.01, en espace de 0.001, la plus petite valeur de PHI est nan\n",
      "Pour un pas en temps de 0.05, en espace de 1, la plus petite valeur de PHI est 0.07318059649637891\n",
      "Pour un pas en temps de 0.05, en espace de 0.5, la plus petite valeur de PHI est 0.00019418582505579225\n",
      "Pour un pas en temps de 0.05, en espace de 0.1, la plus petite valeur de PHI est -31390216734039.94\n",
      "Pour un pas en temps de 0.05, en espace de 0.05, la plus petite valeur de PHI est -1.6238337783895123e+44\n",
      "Pour un pas en temps de 0.05, en espace de 0.01, la plus petite valeur de PHI est -1.0107960651479575e+248\n"
     ]
    },
    {
     "name": "stderr",
     "output_type": "stream",
     "text": [
      "/Users/johnsibony/anaconda/lib/python3.6/site-packages/ipykernel_launcher.py:34: RuntimeWarning: overflow encountered in add\n",
      "/Users/johnsibony/anaconda/lib/python3.6/site-packages/ipykernel_launcher.py:34: RuntimeWarning: overflow encountered in multiply\n",
      "/Users/johnsibony/anaconda/lib/python3.6/site-packages/ipykernel_launcher.py:35: RuntimeWarning: overflow encountered in multiply\n",
      "/Users/johnsibony/anaconda/lib/python3.6/site-packages/ipykernel_launcher.py:32: RuntimeWarning: overflow encountered in add\n"
     ]
    },
    {
     "name": "stdout",
     "output_type": "stream",
     "text": [
      "Pour un pas en temps de 0.05, en espace de 0.001, la plus petite valeur de PHI est nan\n",
      "Pour un pas en temps de 0.001, en espace de 1, la plus petite valeur de PHI est 0.09105259626885878\n",
      "Pour un pas en temps de 0.001, en espace de 0.5, la plus petite valeur de PHI est 0.00024149307425335568\n",
      "Pour un pas en temps de 0.001, en espace de 0.1, la plus petite valeur de PHI est -361290271674297.7\n",
      "Pour un pas en temps de 0.001, en espace de 0.05, la plus petite valeur de PHI est -5.3894621024965155e+25\n"
     ]
    },
    {
     "name": "stderr",
     "output_type": "stream",
     "text": [
      "/Users/johnsibony/anaconda/lib/python3.6/site-packages/ipykernel_launcher.py:28: RuntimeWarning: overflow encountered in add\n",
      "/Users/johnsibony/anaconda/lib/python3.6/site-packages/ipykernel_launcher.py:29: RuntimeWarning: overflow encountered in add\n",
      "/Users/johnsibony/anaconda/lib/python3.6/site-packages/ipykernel_launcher.py:30: RuntimeWarning: overflow encountered in add\n",
      "/Users/johnsibony/anaconda/lib/python3.6/site-packages/ipykernel_launcher.py:31: RuntimeWarning: overflow encountered in add\n",
      "/Users/johnsibony/anaconda/lib/python3.6/site-packages/ipykernel_launcher.py:32: RuntimeWarning: overflow encountered in add\n"
     ]
    },
    {
     "name": "stdout",
     "output_type": "stream",
     "text": [
      "Pour un pas en temps de 0.001, en espace de 0.01, la plus petite valeur de PHI est nan\n"
     ]
    },
    {
     "name": "stderr",
     "output_type": "stream",
     "text": [
      "/Users/johnsibony/anaconda/lib/python3.6/site-packages/ipykernel_launcher.py:34: RuntimeWarning: overflow encountered in add\n",
      "/Users/johnsibony/anaconda/lib/python3.6/site-packages/ipykernel_launcher.py:35: RuntimeWarning: overflow encountered in multiply\n",
      "/Users/johnsibony/anaconda/lib/python3.6/site-packages/ipykernel_launcher.py:32: RuntimeWarning: overflow encountered in add\n"
     ]
    },
    {
     "name": "stdout",
     "output_type": "stream",
     "text": [
      "Pour un pas en temps de 0.001, en espace de 0.001, la plus petite valeur de PHI est nan\n"
     ]
    }
   ],
   "source": [
    "delta = [1, 0.5, 0.1, 0.01, 0.05, 0.001]\n",
    "\n",
    "for k in delta :\n",
    "    Parallel(n_jobs=-1)(delayed(cal)(k,j) for j in delta)"
   ]
  },
  {
   "cell_type": "markdown",
   "metadata": {
    "run_control": {
     "frozen": false,
     "read_only": false
    }
   },
   "source": [
    "Les Calculs prennent enormément de temps on garde les dernières valeurs à savoir, Delta_T = 0.001 et Delta_x = 0.5"
   ]
  },
  {
   "cell_type": "code",
   "execution_count": 482,
   "metadata": {
    "run_control": {
     "frozen": false,
     "read_only": false
    }
   },
   "outputs": [
    {
     "name": "stdout",
     "output_type": "stream",
     "text": [
      "Pour un pas en temps de 0.001, en espace de 0.5, la plus petite valeur de PHI est 3.6805886142817613e-07\n"
     ]
    }
   ],
   "source": [
    "Phi = cal(0.001, 0.5, d)"
   ]
  },
  {
   "cell_type": "markdown",
   "metadata": {
    "run_control": {
     "frozen": false,
     "read_only": false
    }
   },
   "source": [
    "### Determination du Best Estimate"
   ]
  },
  {
   "cell_type": "code",
   "execution_count": 483,
   "metadata": {
    "run_control": {
     "frozen": false,
     "read_only": false
    }
   },
   "outputs": [
    {
     "data": {
      "image/png": "[encoded data removed]",
      "text/plain": [
       "<matplotlib.figure.Figure at 0x10a33c710>"
      ]
     },
     "metadata": {},
     "output_type": "display_data"
    }
   ],
   "source": [
    "espace = np.arange(-5, 0.5, 0.5)\n",
    "plt.plot(espace,Phi[0,:])\n",
    "plt.title(\"Best Estimate moyen\")\n",
    "plt.show()"
   ]
  },
  {
   "cell_type": "markdown",
   "metadata": {
    "run_control": {
     "frozen": false,
     "read_only": false
    }
   },
   "source": [
    "La solution à l'équation est stable et cohérente si le choix des paramètres est juste. Le choix des pas de temps et d'espace est primordial afin d'obtenir une convergence vers la solution qui soit stable. On a pu dans notre boucle plus haut, \"reperer\" une solution instable si les valeurs de Phi devenait trop importante."
   ]
  },
  {
   "cell_type": "markdown",
   "metadata": {},
   "source": [
    "### Simulation des polynômes de Hermittes"
   ]
  },
  {
   "cell_type": "code",
   "execution_count": 484,
   "metadata": {
    "collapsed": true
   },
   "outputs": [],
   "source": [
    "def Hermitte(d):\n",
    "\n",
    "    xi = np.random.normal(0.01,0.01)\n",
    "    poly = [1,xi]\n",
    "    for i in range(2, d+1):\n",
    "        poly.append(xi * poly_de_hermite[-1] - i * poly_de_hermite[-2])\n",
    "        \n",
    "    return poly"
   ]
  },
  {
   "cell_type": "markdown",
   "metadata": {
    "run_control": {
     "frozen": false,
     "read_only": false
    }
   },
   "source": [
    "### Estimation des Ajustements pour Incertitude"
   ]
  },
  {
   "cell_type": "code",
   "execution_count": 485,
   "metadata": {},
   "outputs": [
    {
     "name": "stdout",
     "output_type": "stream",
     "text": [
      "[-5.  -4.5 -4.  -3.5 -3.  -2.5 -2.  -1.5 -1.  -0.5  0. ]\n"
     ]
    }
   ],
   "source": [
    "print(espace)"
   ]
  },
  {
   "cell_type": "code",
   "execution_count": 486,
   "metadata": {
    "collapsed": true,
    "run_control": {
     "frozen": false,
     "read_only": false
    }
   },
   "outputs": [],
   "source": [
    "res = []\n",
    "\n",
    "for j in range(1000):\n",
    "    \n",
    "    poly = np.array(Hermitte(d))\n",
    "    val = np.dot(poly, Phi[:,10])  # La 8ème colonne de Phi_0 correspond au 8ème espavce x de espace ie à x=-1\n",
    "    res.append(val)"
   ]
  },
  {
   "cell_type": "code",
   "execution_count": 487,
   "metadata": {
    "run_control": {
     "frozen": false,
     "read_only": false
    }
   },
   "outputs": [
    {
     "name": "stdout",
     "output_type": "stream",
     "text": [
      "L'ajustement pour incertitude de quantile 20.325522099237826 pour x = -1 vaut : 0.30135376105113826\n",
      "L'ajustement pour incertitude de quantile 20.58106433870443 pour x = -1 vaut : 0.23330464933785308\n",
      "L'ajustement pour incertitude de quantile 20.958870490924294 pour x = -1 vaut : 0.15509892985734516\n"
     ]
    }
   ],
   "source": [
    "Ajustement(np.percentile(res, 90), res, -1)  # Ajustement pour une certaine valeur de x \n",
    "Ajustement(np.percentile(res, 95), res, -1)\n",
    "Ajustement(np.percentile(res, 99), res, -1)"
   ]
  },
  {
   "cell_type": "code",
   "execution_count": 488,
   "metadata": {
    "collapsed": true
   },
   "outputs": [],
   "source": [
    "res = []\n",
    "\n",
    "for j in range(1000):\n",
    "    \n",
    "    poly = np.array(Hermitte(d))\n",
    "    val = np.dot(poly, Phi[:,10])  # La 8ème colonne de Phi_0 correspond au 8ème espavce x de espace ie à x=-1\n",
    "    res.append(val)"
   ]
  },
  {
   "cell_type": "code",
   "execution_count": 489,
   "metadata": {},
   "outputs": [
    {
     "name": "stdout",
     "output_type": "stream",
     "text": [
      "L'ajustement pour incertitude de quantile 20.328676133188313 pour x = 0 vaut : 0.3560444362892207\n",
      "L'ajustement pour incertitude de quantile 20.599075304033583 pour x = 0 vaut : 0.30862866857524013\n",
      "L'ajustement pour incertitude de quantile 21.148415637438415 pour x = 0 vaut : 0.20711756862457625\n"
     ]
    }
   ],
   "source": [
    "Ajustement(np.percentile(res, 90), res, 0)  # Ajustement pour une certaine valeur de x \n",
    "Ajustement(np.percentile(res, 95), res, 0)\n",
    "Ajustement(np.percentile(res, 99), res, 0)"
   ]
  },
  {
   "cell_type": "markdown",
   "metadata": {
    "run_control": {
     "frozen": false,
     "read_only": false
    }
   },
   "source": [
    "## Determination du cout moyen de la garantie "
   ]
  },
  {
   "cell_type": "code",
   "execution_count": 492,
   "metadata": {},
   "outputs": [
    {
     "name": "stdout",
     "output_type": "stream",
     "text": [
      "La valeur qui coupe 1 est donc quand x vaut :  1.0\n"
     ]
    }
   ],
   "source": [
    "res = []\n",
    "\n",
    "for i in range(1000):\n",
    "        \n",
    "    poly = np.array(Hermitte(d))\n",
    "    val = np.dot(poly, Phi)-1\n",
    "    a = val[0]\n",
    "    for indice, j in enumerate(val[1:]):\n",
    "        if(j>0 and a<0):\n",
    "            res.append(espace[indice])\n",
    "            break\n",
    "        a = j\n",
    "    \n",
    "print(\"La valeur qui coupe 1 est donc quand x vaut : \", -np.mean(res))"
   ]
  },
  {
   "cell_type": "markdown",
   "metadata": {
    "run_control": {
     "frozen": false,
     "read_only": false
    }
   },
   "source": [
    "\n",
    "Ainsi, on trouve un prix qui n'est pas celui annoncé par la méthode de Monte Carlo. On a beau modifier les valeurs de temps et d'espace, on n'arrive pas à retrouver la valeur de 0.5. Néanmoins on retrouve une valeur assez proche, à savoir 1. Cette différence n'est pas étonnante étant donné que les pas d'espace sont faibles (delta=0.5 impliquant que -x passe en particulier entre 0, 0.5 et 1.5 : il y a de trop grand saut)"
   ]
  },
  {
   "cell_type": "code",
   "execution_count": null,
   "metadata": {
    "collapsed": true
   },
   "outputs": [],
   "source": []
  },
  {
   "cell_type": "code",
   "execution_count": null,
   "metadata": {
    "collapsed": true
   },
   "outputs": [],
   "source": []
  },
  {
   "cell_type": "markdown",
   "metadata": {
    "run_control": {
     "frozen": false,
     "read_only": false
    }
   },
   "source": [
    "### Discussion sur les discrétisations et sur les troncatures\n",
    "\n",
    "Il est vraiment compliqué de trouver les bonnes valeurs de pas de temps et d'espace qui permettent d'assurer la stabilité de la solution. Une solution est dite stable si elle n'explose pas. Ce choix est important et on a pu observé des explosions assez rapides pour des mauvais choix de temps et d'espace. Par ailleurs, le choix de l'intervalle d'espace permet également d'avoir une convergence de la solution.\n",
    "\n",
    "Enfin, nous proposons d'étudier l'impacte de la troncature en chaos d sur le prix du contrat Phi :\n",
    "\n"
   ]
  },
  {
   "cell_type": "code",
   "execution_count": 498,
   "metadata": {},
   "outputs": [
    {
     "name": "stdout",
     "output_type": "stream",
     "text": [
      "Pour un pas en temps de 0.001, en espace de 0.5, la plus petite valeur de PHI est 3.680588614280032e-07\n"
     ]
    },
    {
     "data": {
      "image/png": "[encoded data removed]",
      "text/plain": [
       "<matplotlib.figure.Figure at 0x1169959e8>"
      ]
     },
     "metadata": {},
     "output_type": "display_data"
    },
    {
     "name": "stdout",
     "output_type": "stream",
     "text": [
      "Pour un pas en temps de 0.001, en espace de 0.5, la plus petite valeur de PHI est 3.6805886142817613e-07\n"
     ]
    },
    {
     "data": {
      "image/png": "[encoded data removed]",
      "text/plain": [
       "<matplotlib.figure.Figure at 0x117df4eb8>"
      ]
     },
     "metadata": {},
     "output_type": "display_data"
    },
    {
     "name": "stdout",
     "output_type": "stream",
     "text": [
      "Pour un pas en temps de 0.001, en espace de 0.5, la plus petite valeur de PHI est 3.6805886142817613e-07\n"
     ]
    },
    {
     "data": {
      "image/png": "[encoded data removed]",
      "text/plain": [
       "<matplotlib.figure.Figure at 0x1131eaf60>"
      ]
     },
     "metadata": {},
     "output_type": "display_data"
    },
    {
     "name": "stdout",
     "output_type": "stream",
     "text": [
      "Pour un pas en temps de 0.001, en espace de 0.5, la plus petite valeur de PHI est 3.6805886142817613e-07\n"
     ]
    },
    {
     "data": {
      "image/png": "[encoded data removed]",
      "text/plain": [
       "<matplotlib.figure.Figure at 0x116580390>"
      ]
     },
     "metadata": {},
     "output_type": "display_data"
    },
    {
     "name": "stdout",
     "output_type": "stream",
     "text": [
      "Pour un pas en temps de 0.001, en espace de 0.5, la plus petite valeur de PHI est 3.6805886142817613e-07\n"
     ]
    },
    {
     "data": {
      "image/png": "[encoded data removed]",
      "text/plain": [
       "<matplotlib.figure.Figure at 0x11669f978>"
      ]
     },
     "metadata": {},
     "output_type": "display_data"
    },
    {
     "name": "stdout",
     "output_type": "stream",
     "text": [
      "Pour un pas en temps de 0.001, en espace de 0.5, la plus petite valeur de PHI est 3.6805886142817613e-07\n"
     ]
    },
    {
     "data": {
      "image/png": "[encoded data removed]",
      "text/plain": [
       "<matplotlib.figure.Figure at 0x1168d9320>"
      ]
     },
     "metadata": {},
     "output_type": "display_data"
    }
   ],
   "source": [
    "espace = np.arange(-5, 0.5, 0.5)\n",
    "\n",
    "for d in [2,5,7,10,20,30]:\n",
    "    \n",
    "    espace = np.arange(-5, 0.5, 0.5)\n",
    "    Phi = cal(0.001, 0.5, d)\n",
    "    plt.plot(espace,Phi[0,:])\n",
    "    plt.title(\"Best Estimate moyen\")\n",
    "    plt.show()"
   ]
  },
  {
   "cell_type": "markdown",
   "metadata": {
    "collapsed": true
   },
   "source": [
    " On observe clairement qu'il n'y a pas de différence quant à la modification de d sur le Best Estimate qui est le prix du contrat en moyenne au temps initial."
   ]
  },
  {
   "cell_type": "code",
   "execution_count": null,
   "metadata": {
    "collapsed": true
   },
   "outputs": [],
   "source": []
  }
 ],
 "metadata": {
  "kernelspec": {
   "display_name": "Python 3",
   "language": "python",
   "name": "python3"
  },
  "language_info": {
   "codemirror_mode": {
    "name": "ipython",
    "version": 3
   },
   "file_extension": ".py",
   "mimetype": "text/x-python",
   "name": "python",
   "nbconvert_exporter": "python",
   "pygments_lexer": "ipython3",
   "version": "3.6.1"
  }
 },
 "nbformat": 4,
 "nbformat_minor": 2
}
